{
 "cells": [
  {
   "cell_type": "markdown",
   "id": "8cb90fd4",
   "metadata": {},
   "source": [
    "# Q1. Pearson correlation coefficient is a measure of the linear relationship between two variables. Suppose you have collected data on the amount of time students spend studying for an exam and their final exam scores. Calculate the Pearson correlation coefficient between these two variables and interpret the result."
   ]
  },
  {
   "cell_type": "code",
   "execution_count": 6,
   "id": "6ab3bc9c",
   "metadata": {},
   "outputs": [
    {
     "data": {
      "text/html": [
       "<div>\n",
       "<style scoped>\n",
       "    .dataframe tbody tr th:only-of-type {\n",
       "        vertical-align: middle;\n",
       "    }\n",
       "\n",
       "    .dataframe tbody tr th {\n",
       "        vertical-align: top;\n",
       "    }\n",
       "\n",
       "    .dataframe thead th {\n",
       "        text-align: right;\n",
       "    }\n",
       "</style>\n",
       "<table border=\"1\" class=\"dataframe\">\n",
       "  <thead>\n",
       "    <tr style=\"text-align: right;\">\n",
       "      <th></th>\n",
       "      <th>study_time</th>\n",
       "      <th>exam_scores</th>\n",
       "    </tr>\n",
       "  </thead>\n",
       "  <tbody>\n",
       "    <tr>\n",
       "      <th>0</th>\n",
       "      <td>10</td>\n",
       "      <td>85</td>\n",
       "    </tr>\n",
       "    <tr>\n",
       "      <th>1</th>\n",
       "      <td>8</td>\n",
       "      <td>78</td>\n",
       "    </tr>\n",
       "    <tr>\n",
       "      <th>2</th>\n",
       "      <td>12</td>\n",
       "      <td>90</td>\n",
       "    </tr>\n",
       "    <tr>\n",
       "      <th>3</th>\n",
       "      <td>14</td>\n",
       "      <td>92</td>\n",
       "    </tr>\n",
       "    <tr>\n",
       "      <th>4</th>\n",
       "      <td>7</td>\n",
       "      <td>75</td>\n",
       "    </tr>\n",
       "  </tbody>\n",
       "</table>\n",
       "</div>"
      ],
      "text/plain": [
       "   study_time  exam_scores\n",
       "0          10           85\n",
       "1           8           78\n",
       "2          12           90\n",
       "3          14           92\n",
       "4           7           75"
      ]
     },
     "execution_count": 6,
     "metadata": {},
     "output_type": "execute_result"
    }
   ],
   "source": [
    "import pandas as pd\n",
    "data = {'study_time':[10, 8, 12, 14, 7], 'exam_scores':[85, 78, 90, 92, 75]}\n",
    "df = pd.DataFrame(data)\n",
    "df"
   ]
  },
  {
   "cell_type": "code",
   "execution_count": 10,
   "id": "a1c80bee",
   "metadata": {},
   "outputs": [
    {
     "data": {
      "text/html": [
       "<div>\n",
       "<style scoped>\n",
       "    .dataframe tbody tr th:only-of-type {\n",
       "        vertical-align: middle;\n",
       "    }\n",
       "\n",
       "    .dataframe tbody tr th {\n",
       "        vertical-align: top;\n",
       "    }\n",
       "\n",
       "    .dataframe thead th {\n",
       "        text-align: right;\n",
       "    }\n",
       "</style>\n",
       "<table border=\"1\" class=\"dataframe\">\n",
       "  <thead>\n",
       "    <tr style=\"text-align: right;\">\n",
       "      <th></th>\n",
       "      <th>study_time</th>\n",
       "      <th>exam_scores</th>\n",
       "    </tr>\n",
       "  </thead>\n",
       "  <tbody>\n",
       "    <tr>\n",
       "      <th>study_time</th>\n",
       "      <td>1.000000</td>\n",
       "      <td>0.981551</td>\n",
       "    </tr>\n",
       "    <tr>\n",
       "      <th>exam_scores</th>\n",
       "      <td>0.981551</td>\n",
       "      <td>1.000000</td>\n",
       "    </tr>\n",
       "  </tbody>\n",
       "</table>\n",
       "</div>"
      ],
      "text/plain": [
       "             study_time  exam_scores\n",
       "study_time     1.000000     0.981551\n",
       "exam_scores    0.981551     1.000000"
      ]
     },
     "execution_count": 10,
     "metadata": {},
     "output_type": "execute_result"
    }
   ],
   "source": [
    "df.corr( method = 'pearson')"
   ]
  },
  {
   "cell_type": "markdown",
   "id": "d5cd7b71",
   "metadata": {},
   "source": [
    "Interpretation of the Pearson correlation coefficient:\n",
    "\n",
    "The Pearson correlation coefficient, denoted as r, measures the strength and direction of the linear relationship between the two variables.\n",
    "\n",
    "r can range from -1 to 1:\n",
    "If r is close to 1, it indicates a strong positive linear relationship, suggesting that as students spend more time studying, their exam scores tend to increase.\n",
    "\n",
    "If r is close to -1, it indicates a strong negative linear relationship, suggesting that as students spend more time studying, their exam scores tend to decrease.\n",
    "\n",
    "If r is close to 0, it indicates a weak or no linear relationship between the two variables.\n",
    "\n",
    "In the context of interpreting the result, you would need to consider the magnitude and sign of r along with the domain knowledge to draw meaningful conclusions. A positive correlation suggests that more study time is associated with higher exam scores, while a negative correlation suggests the opposite. The exact interpretation may depend on the context and the strength of the correlation.\n",
    "\n",
    "\n"
   ]
  },
  {
   "cell_type": "markdown",
   "id": "6f085851",
   "metadata": {},
   "source": [
    "# Q2. Spearman's rank correlation is a measure of the monotonic relationship between two variables. Suppose you have collected data on the amount of sleep individuals get each night and their overall job satisfaction level on a scale of 1 to 10. Calculate the Spearman's rank correlation between these two variables and interpret the result."
   ]
  },
  {
   "cell_type": "markdown",
   "id": "bd31dbaa",
   "metadata": {},
   "source": [
    "Spearman's rank correlation coefficient (ρ) is a non-parametric measure of the strength and direction of the monotonic relationship between two variables. It is suitable for assessing the relationship between variables when the data may not meet the assumptions of linearity required by Pearson's correlation coefficient.\n",
    "\n",
    "To calculate Spearman's rank correlation, follow these steps:\n",
    "\n",
    "Rank the data for both variables.\n",
    "Calculate the difference between the ranks for each pair of data points.\n",
    "Square these differences.\n",
    "Sum up the squared differences.\n",
    "Use the formula for Spearman's rank correlation:"
   ]
  },
  {
   "cell_type": "code",
   "execution_count": 13,
   "id": "1b09502d",
   "metadata": {},
   "outputs": [
    {
     "name": "stdout",
     "output_type": "stream",
     "text": [
      "Spearman's Rank Correlation Coefficient: 0.9746794344808963\n"
     ]
    }
   ],
   "source": [
    "import numpy as np\n",
    "from scipy.stats import spearmanr\n",
    "\n",
    "# Sample data for sleep hours and job satisfaction\n",
    "sleep_hours = [6, 7, 5, 8, 7]\n",
    "job_satisfaction = [5, 8, 4, 9, 7]\n",
    "\n",
    "# Calculate Spearman's rank correlation coefficient\n",
    "spearman_corr, _ = spearmanr(sleep_hours, job_satisfaction)\n",
    "\n",
    "print(\"Spearman's Rank Correlation Coefficient:\", spearman_corr)\n"
   ]
  },
  {
   "cell_type": "code",
   "execution_count": 17,
   "id": "ba1605a2",
   "metadata": {},
   "outputs": [
    {
     "name": "stdout",
     "output_type": "stream",
     "text": [
      "Spearman's Rank Correlation Coefficient: 0.9746794344808963\n"
     ]
    }
   ],
   "source": [
    "#alternate method\n",
    "import numpy as np\n",
    "from scipy.stats import spearmanr\n",
    "\n",
    "# Sample data for sleep hours and job satisfaction\n",
    "data = {'sleep_hours':[6, 7, 5, 8, 7],\n",
    "        'job_satisfaction':[5, 8, 4, 9, 7]}\n",
    "\n",
    "df = pd.DataFrame(data)\n",
    "\n",
    "# Calculate Spearman's rank correlation coefficient\n",
    "spearman_corr, _ = spearmanr(df['sleep_hours'], df['job_satisfaction'])\n",
    "\n",
    "print(\"Spearman's Rank Correlation Coefficient:\", spearman_corr)\n"
   ]
  },
  {
   "cell_type": "markdown",
   "id": "f68eddf1",
   "metadata": {},
   "source": [
    "Spearman's rank correlation coefficient (ρ) ranges from -1 to 1.\n",
    "If ρ is close to 1, it indicates a strong positive monotonic relationship, suggesting that as individuals get more sleep, their job satisfaction tends to increase.\n",
    "If ρ is close to -1, it indicates a strong negative monotonic relationship, suggesting that as individuals get more sleep, their job satisfaction tends to decrease.\n",
    "If ρ is close to 0, it indicates a weak or no monotonic relationship between the two variables.\n",
    "In this context, a positive Spearman's rank correlation suggests that individuals who get more sleep tend to report higher job satisfaction, while a negative correlation suggests the opposite. The exact interpretation may depend on the context and the strength of the correlation."
   ]
  },
  {
   "cell_type": "markdown",
   "id": "ae387f3d",
   "metadata": {},
   "source": [
    "# Q3. Suppose you are conducting a study to examine the relationship between the number of hours of exercise per week and body mass index (BMI) in a sample of adults. You collected data on both variables for 50 participants. Calculate the Pearson correlation coefficient and the Spearman's rank correlation between these two variables and compare the results."
   ]
  },
  {
   "cell_type": "code",
   "execution_count": 28,
   "id": "1f45fb7a",
   "metadata": {},
   "outputs": [
    {
     "name": "stdout",
     "output_type": "stream",
     "text": [
      "Pearson Correlation Coefficient: -0.31923163419594924\n",
      "Spearman's Rank Correlation Coefficient: -0.3333974297349129\n"
     ]
    }
   ],
   "source": [
    "import pandas as pd\n",
    "\n",
    "# Sample data for exercise hours per week and BMI\n",
    "data = {'exercise_hours':[2, 3, 4, 3, 2, 1, 4, 5, 2, 3, 4, 5,1],\n",
    "        'bmi':[30.5, 24.0, 23.3, 28.2, 26.7, 25.7, 24.2, 30.9, 28.3, 27.3, 25.9, 23.7, 29.6]}\n",
    "\n",
    "df = pd.DataFrame(data)\n",
    "\n",
    "# Calculate Pearson correlation coefficient\n",
    "pearson_corr = df['exercise_hours'].corr(df['bmi'])\n",
    "\n",
    "# Calculate Spearman's rank correlation coefficient\n",
    "spearman_corr = df['exercise_hours'].corr(df['bmi'], method='spearman')\n",
    "\n",
    "print(\"Pearson Correlation Coefficient:\", pearson_corr)\n",
    "print(\"Spearman's Rank Correlation Coefficient:\", spearman_corr)\n"
   ]
  },
  {
   "cell_type": "markdown",
   "id": "d4cee7aa",
   "metadata": {},
   "source": [
    "# Q4. A researcher is interested in examining the relationship between the number of hours individuals spend watching television per day and their level of physical activity. The researcher collected data on both variables from a sample of 50 participants. Calculate the Pearson correlation coefficient between these two variables."
   ]
  },
  {
   "cell_type": "code",
   "execution_count": 31,
   "id": "293d773d",
   "metadata": {},
   "outputs": [
    {
     "name": "stdout",
     "output_type": "stream",
     "text": [
      "Pearson Correlation Coefficient: -0.4148152572016614\n"
     ]
    }
   ],
   "source": [
    "#first method\n",
    "import numpy as np\n",
    "from scipy.stats import pearsonr\n",
    "\n",
    "# Sample data for TV hours per day and physical activity level\n",
    "tv_hours = [2, 3, 4, 3, 2, 1, 4, 5, 2, 3, 4, 5, 1, 2, 3, 4, 5, 1, 2, 3, 4, 5, 2, 3, 4, 3, 2, 1, 4, 5, 2, 3, 4, 5, 1, 2, 3, 4, 5, 1, 2, 3, 4, 5, 2, 3, 4, 3, 2]\n",
    "physical_activity = [3, 2, 4, 3, 2, 4, 2, 1, 3, 4, 2, 1, 4, 3, 2, 4, 1, 4, 3, 2, 3, 1, 2, 4, 3, 2, 1, 4, 2, 3, 4, 2, 1, 3, 4, 2, 1, 4, 3, 2, 4, 1, 3, 2, 4, 2, 1, 3, 4]\n",
    "\n",
    "# Calculate Pearson correlation coefficient\n",
    "pearson_corr, _ = pearsonr(tv_hours, physical_activity)\n",
    "\n",
    "print(\"Pearson Correlation Coefficient:\", pearson_corr)\n"
   ]
  },
  {
   "cell_type": "code",
   "execution_count": 32,
   "id": "196a3bd3",
   "metadata": {},
   "outputs": [
    {
     "name": "stdout",
     "output_type": "stream",
     "text": [
      "Pearson Correlation Coefficient:                    tv_hours  physical_activity\n",
      "tv_hours           1.000000          -0.414815\n",
      "physical_activity -0.414815           1.000000\n"
     ]
    }
   ],
   "source": [
    "#Second method\n",
    "import numpy as np\n",
    "from scipy.stats import pearsonr\n",
    "\n",
    "# Sample data for TV hours per day and physical activity level\n",
    "data = {'tv_hours':[2, 3, 4, 3, 2, 1, 4, 5, 2, 3, 4, 5, 1, 2, 3, 4, 5, 1, 2, 3, 4, 5, 2, 3, 4, 3, 2, 1, 4, 5, 2, 3, 4, 5, 1, 2, 3, 4, 5, 1, 2, 3, 4, 5, 2, 3, 4, 3, 2],\n",
    "'physical_activity':[3, 2, 4, 3, 2, 4, 2, 1, 3, 4, 2, 1, 4, 3, 2, 4, 1, 4, 3, 2, 3, 1, 2, 4, 3, 2, 1, 4, 2, 3, 4, 2, 1, 3, 4, 2, 1, 4, 3, 2, 4, 1, 3, 2, 4, 2, 1, 3, 4]}\n",
    "\n",
    "df = pd.DataFrame(data)\n",
    "pearson_corr = df.corr(method = 'pearson')\n",
    "\n",
    "print(\"Pearson Correlation Coefficient:\", pearson_corr)\n"
   ]
  },
  {
   "cell_type": "markdown",
   "id": "6053cfb1",
   "metadata": {},
   "source": [
    "# Q5. A survey was conducted to examine the relationship between age and preference for a particular brand of soft drink. The survey results are shown below:\n",
    "\n",
    "# Age(Years)   Soft drink Preference\n",
    "# 25           Coke \n",
    "# 42           Pepsi \n",
    "# 37           Mountain dew  \n",
    "# 19           Coke\n",
    "# 31           Pepsi\n",
    "# 28           Coke"
   ]
  },
  {
   "cell_type": "code",
   "execution_count": 49,
   "id": "2afe0bba",
   "metadata": {},
   "outputs": [],
   "source": [
    "import pandas as pd\n",
    "from sklearn.preprocessing import OneHotEncoder\n",
    "data = {'Age(years)':[25,42,37,9,31,28],'Soft Drink Preference':['Coke','Pepsi','Moutain Dew','Coke','Pepsi','Coke']}\n",
    "df = pd.DataFrame(data)\n",
    "Encoder = OneHotEncoder()\n",
    "Encoded = Encoder.fit_transform(df[['Soft Drink Preference']])\n",
    "encoded_df = pd.DataFrame(Encoded.toarray(),columns = Encoder.get_feature_names_out())"
   ]
  },
  {
   "cell_type": "code",
   "execution_count": 50,
   "id": "4e0e699f",
   "metadata": {},
   "outputs": [
    {
     "data": {
      "text/html": [
       "<div>\n",
       "<style scoped>\n",
       "    .dataframe tbody tr th:only-of-type {\n",
       "        vertical-align: middle;\n",
       "    }\n",
       "\n",
       "    .dataframe tbody tr th {\n",
       "        vertical-align: top;\n",
       "    }\n",
       "\n",
       "    .dataframe thead th {\n",
       "        text-align: right;\n",
       "    }\n",
       "</style>\n",
       "<table border=\"1\" class=\"dataframe\">\n",
       "  <thead>\n",
       "    <tr style=\"text-align: right;\">\n",
       "      <th></th>\n",
       "      <th>Soft Drink Preference_Coke</th>\n",
       "      <th>Soft Drink Preference_Moutain Dew</th>\n",
       "      <th>Soft Drink Preference_Pepsi</th>\n",
       "    </tr>\n",
       "  </thead>\n",
       "  <tbody>\n",
       "    <tr>\n",
       "      <th>0</th>\n",
       "      <td>1.0</td>\n",
       "      <td>0.0</td>\n",
       "      <td>0.0</td>\n",
       "    </tr>\n",
       "    <tr>\n",
       "      <th>1</th>\n",
       "      <td>0.0</td>\n",
       "      <td>0.0</td>\n",
       "      <td>1.0</td>\n",
       "    </tr>\n",
       "    <tr>\n",
       "      <th>2</th>\n",
       "      <td>0.0</td>\n",
       "      <td>1.0</td>\n",
       "      <td>0.0</td>\n",
       "    </tr>\n",
       "    <tr>\n",
       "      <th>3</th>\n",
       "      <td>1.0</td>\n",
       "      <td>0.0</td>\n",
       "      <td>0.0</td>\n",
       "    </tr>\n",
       "    <tr>\n",
       "      <th>4</th>\n",
       "      <td>0.0</td>\n",
       "      <td>0.0</td>\n",
       "      <td>1.0</td>\n",
       "    </tr>\n",
       "    <tr>\n",
       "      <th>5</th>\n",
       "      <td>1.0</td>\n",
       "      <td>0.0</td>\n",
       "      <td>0.0</td>\n",
       "    </tr>\n",
       "  </tbody>\n",
       "</table>\n",
       "</div>"
      ],
      "text/plain": [
       "   Soft Drink Preference_Coke  Soft Drink Preference_Moutain Dew  Soft Drink Preference_Pepsi\n",
       "0                         1.0                                0.0                          0.0\n",
       "1                         0.0                                0.0                          1.0\n",
       "2                         0.0                                1.0                          0.0\n",
       "3                         1.0                                0.0                          0.0\n",
       "4                         0.0                                0.0                          1.0\n",
       "5                         1.0                                0.0                          0.0"
      ]
     },
     "execution_count": 50,
     "metadata": {},
     "output_type": "execute_result"
    }
   ],
   "source": [
    "encoded_df"
   ]
  },
  {
   "cell_type": "code",
   "execution_count": 51,
   "id": "83e31717",
   "metadata": {},
   "outputs": [],
   "source": [
    "df = pd.concat([df[['Age(years)']],encoded_df],axis = 1)"
   ]
  },
  {
   "cell_type": "code",
   "execution_count": 52,
   "id": "b4294881",
   "metadata": {},
   "outputs": [
    {
     "data": {
      "text/html": [
       "<div>\n",
       "<style scoped>\n",
       "    .dataframe tbody tr th:only-of-type {\n",
       "        vertical-align: middle;\n",
       "    }\n",
       "\n",
       "    .dataframe tbody tr th {\n",
       "        vertical-align: top;\n",
       "    }\n",
       "\n",
       "    .dataframe thead th {\n",
       "        text-align: right;\n",
       "    }\n",
       "</style>\n",
       "<table border=\"1\" class=\"dataframe\">\n",
       "  <thead>\n",
       "    <tr style=\"text-align: right;\">\n",
       "      <th></th>\n",
       "      <th>Age(years)</th>\n",
       "      <th>Soft Drink Preference_Coke</th>\n",
       "      <th>Soft Drink Preference_Moutain Dew</th>\n",
       "      <th>Soft Drink Preference_Pepsi</th>\n",
       "    </tr>\n",
       "  </thead>\n",
       "  <tbody>\n",
       "    <tr>\n",
       "      <th>0</th>\n",
       "      <td>25</td>\n",
       "      <td>1.0</td>\n",
       "      <td>0.0</td>\n",
       "      <td>0.0</td>\n",
       "    </tr>\n",
       "    <tr>\n",
       "      <th>1</th>\n",
       "      <td>42</td>\n",
       "      <td>0.0</td>\n",
       "      <td>0.0</td>\n",
       "      <td>1.0</td>\n",
       "    </tr>\n",
       "    <tr>\n",
       "      <th>2</th>\n",
       "      <td>37</td>\n",
       "      <td>0.0</td>\n",
       "      <td>1.0</td>\n",
       "      <td>0.0</td>\n",
       "    </tr>\n",
       "    <tr>\n",
       "      <th>3</th>\n",
       "      <td>9</td>\n",
       "      <td>1.0</td>\n",
       "      <td>0.0</td>\n",
       "      <td>0.0</td>\n",
       "    </tr>\n",
       "    <tr>\n",
       "      <th>4</th>\n",
       "      <td>31</td>\n",
       "      <td>0.0</td>\n",
       "      <td>0.0</td>\n",
       "      <td>1.0</td>\n",
       "    </tr>\n",
       "    <tr>\n",
       "      <th>5</th>\n",
       "      <td>28</td>\n",
       "      <td>1.0</td>\n",
       "      <td>0.0</td>\n",
       "      <td>0.0</td>\n",
       "    </tr>\n",
       "  </tbody>\n",
       "</table>\n",
       "</div>"
      ],
      "text/plain": [
       "   Age(years)  Soft Drink Preference_Coke  Soft Drink Preference_Moutain Dew  Soft Drink Preference_Pepsi\n",
       "0          25                         1.0                                0.0                          0.0\n",
       "1          42                         0.0                                0.0                          1.0\n",
       "2          37                         0.0                                1.0                          0.0\n",
       "3           9                         1.0                                0.0                          0.0\n",
       "4          31                         0.0                                0.0                          1.0\n",
       "5          28                         1.0                                0.0                          0.0"
      ]
     },
     "execution_count": 52,
     "metadata": {},
     "output_type": "execute_result"
    }
   ],
   "source": [
    "df"
   ]
  },
  {
   "cell_type": "code",
   "execution_count": 54,
   "id": "409d2139",
   "metadata": {},
   "outputs": [],
   "source": [
    "Pearson_Correlation = df.corr(method = 'pearson')\n",
    "Spearman_Correlation = df.corr(method = 'spearman')\n",
    "Covariance = df.cov()"
   ]
  },
  {
   "cell_type": "code",
   "execution_count": 58,
   "id": "9d7fef64",
   "metadata": {},
   "outputs": [
    {
     "name": "stdout",
     "output_type": "stream",
     "text": [
      "Pearson_Correlation:                                    Age(years)  ...  Soft Drink Preference_Pepsi\n",
      "Age(years)                           1.000000  ...                     0.530811\n",
      "Soft Drink Preference_Coke          -0.766652  ...                    -0.707107\n",
      "Soft Drink Preference_Moutain Dew    0.357143  ...                    -0.316228\n",
      "Soft Drink Preference_Pepsi          0.530811  ...                     1.000000\n",
      "\n",
      "[4 rows x 4 columns]\n",
      "Spearman_Correlation:                                    Age(years)  ...  Soft Drink Preference_Pepsi\n",
      "Age(years)                           1.000000  ...                     0.621059\n",
      "Soft Drink Preference_Coke          -0.878310  ...                    -0.707107\n",
      "Soft Drink Preference_Moutain Dew    0.392792  ...                    -0.316228\n",
      "Soft Drink Preference_Pepsi          0.621059  ...                     1.000000\n",
      "\n",
      "[4 rows x 4 columns]\n",
      "Covariance:                                    Age(years)  ...  Soft Drink Preference_Pepsi\n",
      "Age(years)                         130.666667  ...                     3.133333\n",
      "Soft Drink Preference_Coke          -4.800000  ...                    -0.200000\n",
      "Soft Drink Preference_Moutain Dew    1.666667  ...                    -0.066667\n",
      "Soft Drink Preference_Pepsi          3.133333  ...                     0.266667\n",
      "\n",
      "[4 rows x 4 columns]\n"
     ]
    }
   ],
   "source": [
    "print(f\"Pearson_Correlation: {Pearson_Correlation}\")\n",
    "print(f\"Spearman_Correlation: {Spearman_Correlation}\")\n",
    "print(f\"Covariance: {Covariance}\")"
   ]
  },
  {
   "cell_type": "markdown",
   "id": "940e8f11",
   "metadata": {},
   "source": [
    "# Q6. A company is interested in examining the relationship between the number of sales calls made per day and the number of sales made per week. The company collected data on both variables from a sample of 30 sales representatives. Calculate the Pearson correlation coefficient between these two variables."
   ]
  },
  {
   "cell_type": "code",
   "execution_count": 59,
   "id": "1e0792b5",
   "metadata": {},
   "outputs": [
    {
     "name": "stdout",
     "output_type": "stream",
     "text": [
      "Pearson Correlation Coefficient: 0.9812430065166519\n"
     ]
    }
   ],
   "source": [
    "import numpy as np\n",
    "from scipy.stats import pearsonr\n",
    "\n",
    "# Sample data for sales calls made per day and sales made per week\n",
    "sales_calls_per_day = [10, 8, 12, 14, 7, 9, 11, 13, 8, 10, 12, 15, 7, 9, 11, 14, 8, 10, 13, 15, 7, 9, 12, 14, 8, 10, 11, 13, 7, 9]\n",
    "sales_made_per_week = [5, 4, 6, 7, 3, 4, 5, 6, 4, 5, 6, 7, 3, 4, 5, 7, 4, 5, 6, 7, 3, 4, 6, 7, 4, 5, 5, 6, 3, 4]\n",
    "\n",
    "# Calculate Pearson correlation coefficient\n",
    "pearson_corr, _ = pearsonr(sales_calls_per_day, sales_made_per_week)\n",
    "\n",
    "print(\"Pearson Correlation Coefficient:\", pearson_corr)\n"
   ]
  },
  {
   "cell_type": "code",
   "execution_count": null,
   "id": "85e00639",
   "metadata": {},
   "outputs": [],
   "source": []
  }
 ],
 "metadata": {
  "kernelspec": {
   "display_name": "Python 3 (ipykernel)",
   "language": "python",
   "name": "python3"
  },
  "language_info": {
   "codemirror_mode": {
    "name": "ipython",
    "version": 3
   },
   "file_extension": ".py",
   "mimetype": "text/x-python",
   "name": "python",
   "nbconvert_exporter": "python",
   "pygments_lexer": "ipython3",
   "version": "3.11.4"
  }
 },
 "nbformat": 4,
 "nbformat_minor": 5
}
